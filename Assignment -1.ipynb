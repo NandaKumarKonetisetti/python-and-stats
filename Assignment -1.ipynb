{
 "cells": [
  {
   "cell_type": "markdown",
   "id": "47623d48",
   "metadata": {},
   "source": [
    "# 1. Write a Python program to reverse a string without using any built-in string reversal functions."
   ]
  },
  {
   "cell_type": "code",
   "execution_count": 1,
   "id": "2dc82f12",
   "metadata": {},
   "outputs": [
    {
     "name": "stdout",
     "output_type": "stream",
     "text": [
      "Enter a string: nanda\n",
      "Reversed string: adnan\n"
     ]
    }
   ],
   "source": [
    "def reverse_string(string):\n",
    "    reversed_string = \"\"\n",
    "    for i in range(len(string) - 1, -1, -1):\n",
    "        reversed_string += string[i]\n",
    "    return reversed_string\n",
    "\n",
    "\n",
    "input_string = input(\"Enter a string: \")\n",
    "reversed_string = reverse_string(input_string)\n",
    "print(\"Reversed string:\", reversed_string)"
   ]
  },
  {
   "cell_type": "markdown",
   "id": "429954e1",
   "metadata": {},
   "source": [
    "# 2. Implement a function to check if a given string is a palindrome."
   ]
  },
  {
   "cell_type": "code",
   "execution_count": 3,
   "id": "8a2ef1a8",
   "metadata": {},
   "outputs": [
    {
     "name": "stdout",
     "output_type": "stream",
     "text": [
      "Enter a string: mom\n",
      "The string is a palindrome.\n"
     ]
    }
   ],
   "source": [
    "def is_palindrome(string):\n",
    "    string = string.replace(\" \", \"\").lower()\n",
    "\n",
    "    if string == string[::-1]:\n",
    "        return True\n",
    "    else:\n",
    "        return False\n",
    "\n",
    "\n",
    "input_string = input(\"Enter a string: \")\n",
    "if is_palindrome(input_string):\n",
    "    print(\"The string is a palindrome.\")\n",
    "else:\n",
    "    print(\"The string is not a palindrome.\")"
   ]
  },
  {
   "cell_type": "markdown",
   "id": "55379477",
   "metadata": {},
   "source": [
    "# 3. Write a program to find the largest element in a given list.\n"
   ]
  },
  {
   "cell_type": "code",
   "execution_count": 4,
   "id": "6751b273",
   "metadata": {},
   "outputs": [
    {
     "name": "stdout",
     "output_type": "stream",
     "text": [
      "Enter a list of numbers (space-separated): 1 2 3 4  56 7 \n",
      "Largest element: 56\n"
     ]
    }
   ],
   "source": [
    "def find_largest_element(lst):\n",
    "    if len(lst) == 0:\n",
    "        print(\"Error: List is empty.\")\n",
    "        return None\n",
    "\n",
    "    largest = lst[0] \n",
    "    for i in range(1, len(lst)):\n",
    "        if lst[i] > largest:\n",
    "            largest = lst[i]\n",
    "\n",
    "    return largest\n",
    "input_list = input(\"Enter a list of numbers (space-separated): \")\n",
    "input_list = input_list.split()  \n",
    "input_list = [int(num) for num in input_list]  \n",
    "\n",
    "largest_element = find_largest_element(input_list)\n",
    "print(\"Largest element:\", largest_element)"
   ]
  },
  {
   "cell_type": "code",
   "execution_count": 5,
   "id": "ce04952b",
   "metadata": {},
   "outputs": [],
   "source": [
    "# 4. Implement a function to count the occurrence of each element in a list."
   ]
  },
  {
   "cell_type": "code",
   "execution_count": 6,
   "id": "c58255fb",
   "metadata": {},
   "outputs": [
    {
     "name": "stdout",
     "output_type": "stream",
     "text": [
      "Enter a list of elements (space-separated): n a n d a\n",
      "Occurrence count: {'n': 2, 'a': 2, 'd': 1}\n"
     ]
    }
   ],
   "source": [
    "def count_occurrences(lst):\n",
    "    occurrence_count = {}\n",
    "\n",
    "    for element in lst:\n",
    "        if element in occurrence_count:\n",
    "            occurrence_count[element] += 1\n",
    "        else:\n",
    "            occurrence_count[element] = 1\n",
    "\n",
    "    return occurrence_count\n",
    "\n",
    "\n",
    "input_list = input(\"Enter a list of elements (space-separated): \")\n",
    "input_list = input_list.split()  # Split the input string into a list\n",
    "\n",
    "occurrence_count = count_occurrences(input_list)\n",
    "print(\"Occurrence count:\", occurrence_count)"
   ]
  },
  {
   "cell_type": "markdown",
   "id": "4d8a44ed",
   "metadata": {},
   "source": [
    " 5 .Write a Python program to find the second largest number in a list."
   ]
  },
  {
   "cell_type": "code",
   "execution_count": 7,
   "id": "34bae2b5",
   "metadata": {},
   "outputs": [
    {
     "name": "stdout",
     "output_type": "stream",
     "text": [
      "Second largest number: 20\n"
     ]
    }
   ],
   "source": [
    "def find_second_largest(numbers):\n",
    "    if len(numbers) < 2:\n",
    "        return None\n",
    "\n",
    "    largest = float('-inf')\n",
    "    second_largest = float('-inf')\n",
    "\n",
    "    for num in numbers:\n",
    "        if num > largest:\n",
    "            second_largest = largest\n",
    "            largest = num\n",
    "        elif num > second_largest and num != largest:\n",
    "            second_largest = num\n",
    "\n",
    "    if second_largest == float('-inf'):\n",
    "        return None\n",
    "    else:\n",
    "        return second_largest\n",
    "\n",
    "\n",
    "num_list = [5, 10, 15, 20, 25]\n",
    "result = find_second_largest(num_list)\n",
    "print(\"Second largest number:\", result)\n"
   ]
  },
  {
   "cell_type": "markdown",
   "id": "caf19d17",
   "metadata": {},
   "source": [
    "# 6. Implement a function to remove duplicate elements from a list."
   ]
  },
  {
   "cell_type": "code",
   "execution_count": 8,
   "id": "da7f1b7d",
   "metadata": {},
   "outputs": [
    {
     "name": "stdout",
     "output_type": "stream",
     "text": [
      "Enter a list of elements (space-separated): 1 2 3 4 5 3  32 5 6 2 3 \n",
      "List with duplicates removed: ['1', '2', '3', '4', '5', '32', '6']\n"
     ]
    }
   ],
   "source": [
    "def remove_duplicates(lst):\n",
    "    unique_list = []\n",
    "\n",
    "    for element in lst:\n",
    "        if element not in unique_list:\n",
    "            unique_list.append(element)\n",
    "\n",
    "    return unique_list\n",
    "\n",
    "\n",
    "input_list = input(\"Enter a list of elements (space-separated): \")\n",
    "input_list = input_list.split()  # Split the input string into a list\n",
    "\n",
    "unique_list = remove_duplicates(input_list)\n",
    "print(\"List with duplicates removed:\", unique_list)"
   ]
  },
  {
   "cell_type": "markdown",
   "id": "a51829b9",
   "metadata": {},
   "source": [
    "# 7. Write a program to calculate the factorial of a given number."
   ]
  },
  {
   "cell_type": "code",
   "execution_count": 9,
   "id": "ad589077",
   "metadata": {},
   "outputs": [
    {
     "name": "stdout",
     "output_type": "stream",
     "text": [
      "Enter a number: 4\n",
      "Factorial of 4 is 24\n"
     ]
    }
   ],
   "source": [
    "\n",
    "def factorial(n):\n",
    "    if n < 0:\n",
    "        print(\"Error: Factorial is not defined for negative numbers.\")\n",
    "        return None\n",
    "\n",
    "    result = 1\n",
    "\n",
    "    for i in range(1, n + 1):\n",
    "        result *= i\n",
    "\n",
    "    return result\n",
    "\n",
    "\n",
    "input_num = int(input(\"Enter a number: \"))\n",
    "\n",
    "fact = factorial(input_num)\n",
    "if fact is not None:\n",
    "    print(\"Factorial of\", input_num, \"is\", fact)"
   ]
  },
  {
   "cell_type": "markdown",
   "id": "0473360e",
   "metadata": {},
   "source": [
    "#8. Implement a function to check if a given number is prime.\n"
   ]
  },
  {
   "cell_type": "code",
   "execution_count": 10,
   "id": "fa553599",
   "metadata": {},
   "outputs": [
    {
     "name": "stdout",
     "output_type": "stream",
     "text": [
      "Enter a number: 13\n",
      "13 is a prime number.\n"
     ]
    }
   ],
   "source": [
    "def is_prime(number):\n",
    "    if number < 2:\n",
    "        return False\n",
    "\n",
    "    for i in range(2, int(number ** 0.5) + 1):\n",
    "        if number % i == 0:\n",
    "            return False\n",
    "\n",
    "    return True\n",
    "\n",
    "\n",
    "input_num = int(input(\"Enter a number: \"))\n",
    "\n",
    "if is_prime(input_num):\n",
    "    print(input_num, \"is a prime number.\")\n",
    "else:\n",
    "    print(input_num, \"is not a prime number.\")"
   ]
  },
  {
   "cell_type": "markdown",
   "id": "b8f65951",
   "metadata": {},
   "source": [
    "# 9. Write a Python program to sort a list of integers in ascending order."
   ]
  },
  {
   "cell_type": "code",
   "execution_count": 11,
   "id": "4303d42e",
   "metadata": {},
   "outputs": [
    {
     "name": "stdout",
     "output_type": "stream",
     "text": [
      "Enter a list of integers (space-separated): 1 3 2 4 4 5 6 4 \n",
      "Sorted list in ascending order: [1, 2, 3, 4, 4, 4, 5, 6]\n"
     ]
    }
   ],
   "source": [
    "def sort_list_ascending(lst):\n",
    "    lst.sort()\n",
    "    return lst\n",
    "\n",
    "\n",
    "input_list = input(\"Enter a list of integers (space-separated): \")\n",
    "input_list = input_list.split()  # Split the input string into a list of strings\n",
    "input_list = [int(num) for num in input_list]  # Convert each element to an integer\n",
    "\n",
    "sorted_list = sort_list_ascending(input_list)\n",
    "print(\"Sorted list in ascending order:\", sorted_list)"
   ]
  },
  {
   "cell_type": "markdown",
   "id": "bdb20abd",
   "metadata": {},
   "source": [
    "# 10. Implement a function to find the sum of all numbers in a list.\n"
   ]
  },
  {
   "cell_type": "code",
   "execution_count": 12,
   "id": "22f0fd22",
   "metadata": {},
   "outputs": [
    {
     "name": "stdout",
     "output_type": "stream",
     "text": [
      "Enter a list of numbers (space-separated): 1 4 2 4  56 \n",
      "Sum of numbers: 67\n"
     ]
    }
   ],
   "source": [
    "def find_sum(lst):\n",
    "    total = 0\n",
    "\n",
    "    for num in lst:\n",
    "        total += num\n",
    "\n",
    "    return total\n",
    "\n",
    "\n",
    "input_list = input(\"Enter a list of numbers (space-separated): \")\n",
    "input_list = input_list.split()  \n",
    "input_list = [int(num) for num in input_list]  \n",
    "\n",
    "sum_of_numbers = find_sum(input_list)\n",
    "print(\"Sum of numbers:\", sum_of_numbers)"
   ]
  },
  {
   "cell_type": "markdown",
   "id": "b18628e8",
   "metadata": {},
   "source": [
    "# 11. Write a program to find the common elements between two lists."
   ]
  },
  {
   "cell_type": "code",
   "execution_count": 13,
   "id": "2b9fa1c3",
   "metadata": {},
   "outputs": [
    {
     "name": "stdout",
     "output_type": "stream",
     "text": [
      "Enter the elements of the first list (space-separated): 1 5 3 3 5  7 \n",
      "Enter the elements of the second list (space-separated): 3 6  3 7  34 6 \n",
      "Common elements: ['3', '7']\n"
     ]
    }
   ],
   "source": [
    "\n",
    "def find_common_elements(list1, list2):\n",
    "    common_elements = []\n",
    "\n",
    "    for element in list1:\n",
    "        if element in list2 and element not in common_elements:\n",
    "            common_elements.append(element)\n",
    "\n",
    "    return common_elements\n",
    "\n",
    "input_list1 = input(\"Enter the elements of the first list (space-separated): \")\n",
    "input_list1 = input_list1.split()  # Split the input string into a list\n",
    "\n",
    "input_list2 = input(\"Enter the elements of the second list (space-separated): \")\n",
    "input_list2 = input_list2.split()  # Split the input string into a list\n",
    "\n",
    "common_elements = find_common_elements(input_list1, input_list2)\n",
    "print(\"Common elements:\", common_elements)"
   ]
  },
  {
   "cell_type": "markdown",
   "id": "08be5bc4",
   "metadata": {},
   "source": [
    "# 12. Implement a function to check if a given string is an anagram of another string."
   ]
  },
  {
   "cell_type": "code",
   "execution_count": 14,
   "id": "24c47732",
   "metadata": {},
   "outputs": [
    {
     "name": "stdout",
     "output_type": "stream",
     "text": [
      "Enter the first string: nanda\n",
      "Enter the second string: adan\n",
      "The strings are not anagrams.\n"
     ]
    }
   ],
   "source": [
    "def is_anagram(string1, string2):\n",
    "    string1 = string1.lower().replace(\" \", \"\")\n",
    "    string2 = string2.lower().replace(\" \", \"\")\n",
    "\n",
    "    if len(string1) != len(string2):\n",
    "        return False\n",
    "\n",
    "    char_count = {}\n",
    "\n",
    "    for char in string1:\n",
    "        if char in char_count:\n",
    "            char_count[char] += 1\n",
    "        else:\n",
    "            char_count[char] = 1\n",
    "\n",
    "    for char in string2:\n",
    "        if char in char_count:\n",
    "            char_count[char] -= 1\n",
    "        else:\n",
    "            return False\n",
    "\n",
    "    for count in char_count.values():\n",
    "        if count != 0:\n",
    "            return False\n",
    "\n",
    "    return True\n",
    "\n",
    "\n",
    "input_string1 = input(\"Enter the first string: \")\n",
    "input_string2 = input(\"Enter the second string: \")\n",
    "\n",
    "if is_anagram(input_string1, input_string2):\n",
    "    print(\"The strings are anagrams.\")\n",
    "else:\n",
    "    print(\"The strings are not anagrams.\")"
   ]
  },
  {
   "cell_type": "markdown",
   "id": "ed387665",
   "metadata": {},
   "source": [
    "13 Write a Python program to generate all permutations of a given string.\n"
   ]
  },
  {
   "cell_type": "code",
   "execution_count": 16,
   "id": "623ec9cb",
   "metadata": {},
   "outputs": [
    {
     "name": "stdout",
     "output_type": "stream",
     "text": [
      "Permutations of 'abc' are:\n",
      "abc\n",
      "acb\n",
      "bac\n",
      "bca\n",
      "cab\n",
      "cba\n"
     ]
    }
   ],
   "source": [
    "from itertools import permutations\n",
    "\n",
    "def generate_permutations(string):\n",
    "    perms = permutations(string)\n",
    "\n",
    "    for perm in perms:\n",
    "        print(''.join(perm))\n",
    "\n",
    "# Test the function\n",
    "input_string = \"abc\"\n",
    "print(\"Permutations of '{}' are:\".format(input_string))\n",
    "generate_permutations(input_string)\n"
   ]
  },
  {
   "cell_type": "markdown",
   "id": "a5001109",
   "metadata": {},
   "source": [
    "14.Implement a function to calculate the Fibonacci sequence up to a given number of terms.\n"
   ]
  },
  {
   "cell_type": "code",
   "execution_count": 18,
   "id": "8b2d6870",
   "metadata": {},
   "outputs": [
    {
     "name": "stdout",
     "output_type": "stream",
     "text": [
      "Fibonacci sequence up to 10 terms:\n",
      "[0, 1, 1, 2, 3, 5, 8, 13, 21, 34]\n"
     ]
    }
   ],
   "source": [
    "def fibonacci_sequence(n):\n",
    "    sequence = []\n",
    "    if n == 0:\n",
    "        return sequence\n",
    "    elif n == 1:\n",
    "        sequence.append(0)\n",
    "        return sequence\n",
    "\n",
    "    sequence = [0, 1]\n",
    "    while len(sequence) < n:\n",
    "        next_number = sequence[-1] + sequence[-2]\n",
    "        sequence.append(next_number)\n",
    "\n",
    "    return sequence\n",
    "num_terms = 10\n",
    "fib_sequence = fibonacci_sequence(num_terms)\n",
    "print(\"Fibonacci sequence up to\", num_terms, \"terms:\")\n",
    "print(fib_sequence)\n"
   ]
  },
  {
   "cell_type": "code",
   "execution_count": 19,
   "id": "61c27365",
   "metadata": {},
   "outputs": [
    {
     "data": {
      "text/plain": [
       "15.0"
      ]
     },
     "execution_count": 19,
     "metadata": {},
     "output_type": "execute_result"
    }
   ],
   "source": [
    "15.Write a program to find the median of a list of numbers"
   ]
  },
  {
   "cell_type": "code",
   "execution_count": 20,
   "id": "7c2fd350",
   "metadata": {},
   "outputs": [
    {
     "name": "stdout",
     "output_type": "stream",
     "text": [
      "Median: 5\n"
     ]
    }
   ],
   "source": [
    "def find_median(numbers):\n",
    "    numbers.sort()\n",
    "    n = len(numbers)\n",
    "    if n % 2 == 0:\n",
    "        mid_right = n // 2\n",
    "        mid_left = mid_right - 1\n",
    "        median = (numbers[mid_left] + numbers[mid_right]) / 2\n",
    "    else:\n",
    "        mid = n // 2\n",
    "        median = numbers[mid]\n",
    "    return median\n",
    "\n",
    "\n",
    "\n",
    "num_list = [7, 2, 5, 1, 9]\n",
    "result = find_median(num_list)\n",
    "print(\"Median:\", result)\n"
   ]
  },
  {
   "cell_type": "code",
   "execution_count": 22,
   "id": "db4127bd",
   "metadata": {},
   "outputs": [
    {
     "name": "stdout",
     "output_type": "stream",
     "text": [
      "Median salary for Department A: 5750.0\n",
      "Median salary for Department B: 5500\n"
     ]
    }
   ],
   "source": []
  },
  {
   "cell_type": "markdown",
   "id": "dd1d94fa",
   "metadata": {},
   "source": []
  },
  {
   "cell_type": "code",
   "execution_count": 23,
   "id": "824ade50",
   "metadata": {},
   "outputs": [
    {
     "name": "stdout",
     "output_type": "stream",
     "text": [
      "Range of the stock prices: 1.3000000000000007\n"
     ]
    }
   ],
   "source": []
  },
  {
   "cell_type": "markdown",
   "id": "6ebf6c2a",
   "metadata": {},
   "source": []
  },
  {
   "cell_type": "code",
   "execution_count": 24,
   "id": "0f077b96",
   "metadata": {},
   "outputs": [
    {
     "name": "stdout",
     "output_type": "stream",
     "text": [
      "T-statistic: 1.4312528946642733\n",
      "P-value: 0.19023970239078333\n"
     ]
    }
   ],
   "source": []
  },
  {
   "cell_type": "markdown",
   "id": "93ddfdf5",
   "metadata": {},
   "source": []
  },
  {
   "cell_type": "code",
   "execution_count": 25,
   "id": "23cf3ee1",
   "metadata": {},
   "outputs": [
    {
     "name": "stdout",
     "output_type": "stream",
     "text": [
      "Correlation coefficient: 0.8757511375750132\n"
     ]
    }
   ],
   "source": []
  },
  {
   "cell_type": "markdown",
   "id": "2857c0a4",
   "metadata": {},
   "source": []
  },
  {
   "cell_type": "code",
   "execution_count": 26,
   "id": "3f5a8d65",
   "metadata": {},
   "outputs": [
    {
     "name": "stdout",
     "output_type": "stream",
     "text": [
      "Standard deviation of heights: 7.953949089757174\n"
     ]
    }
   ],
   "source": []
  },
  {
   "cell_type": "markdown",
   "id": "793fd5ec",
   "metadata": {},
   "source": []
  },
  {
   "cell_type": "code",
   "execution_count": 27,
   "id": "02ae77b8",
   "metadata": {},
   "outputs": [
    {
     "name": "stdout",
     "output_type": "stream",
     "text": [
      "Slope: -0.4680851063829787\n",
      "Intercept: 8.595744680851062\n",
      "R-value: -0.520573376708331\n",
      "P-value: 0.23095550952297988\n",
      "Standard error: 0.34333860006713723\n"
     ]
    }
   ],
   "source": []
  },
  {
   "cell_type": "markdown",
   "id": "b401cd70",
   "metadata": {},
   "source": []
  },
  {
   "cell_type": "code",
   "execution_count": 28,
   "id": "10140343",
   "metadata": {},
   "outputs": [
    {
     "name": "stdout",
     "output_type": "stream",
     "text": [
      "F-statistic: 16.0\n",
      "P-value: 0.003949772803445326\n"
     ]
    }
   ],
   "source": []
  },
  {
   "cell_type": "markdown",
   "id": "887df724",
   "metadata": {},
   "source": []
  },
  {
   "cell_type": "code",
   "execution_count": 29,
   "id": "e1725990",
   "metadata": {},
   "outputs": [
    {
     "name": "stdout",
     "output_type": "stream",
     "text": [
      "75th percentile of the feedback ratings: 8.75\n"
     ]
    }
   ],
   "source": []
  },
  {
   "cell_type": "markdown",
   "id": "d9b7663c",
   "metadata": {},
   "source": []
  },
  {
   "cell_type": "code",
   "execution_count": 30,
   "id": "57687e7c",
   "metadata": {},
   "outputs": [
    {
     "name": "stdout",
     "output_type": "stream",
     "text": [
      "T-statistic: 1.5126584522688367\n",
      "P-value: 0.19077595151110102\n"
     ]
    }
   ],
   "source": []
  },
  {
   "cell_type": "markdown",
   "id": "7f75b208",
   "metadata": {},
   "source": []
  },
  {
   "cell_type": "code",
   "execution_count": 31,
   "id": "1574889e",
   "metadata": {},
   "outputs": [
    {
     "name": "stdout",
     "output_type": "stream",
     "text": [
      "Chi-square statistic: [2.22222222 5.97560976 2.         0.13513514 0.12820513]\n",
      "P-value: [0.13603713 0.01450507 0.15729921 0.71316606 0.72030033]\n"
     ]
    }
   ],
   "source": []
  },
  {
   "cell_type": "markdown",
   "id": "022d27e7",
   "metadata": {},
   "source": []
  },
  {
   "cell_type": "code",
   "execution_count": 33,
   "id": "b8aa8d18",
   "metadata": {},
   "outputs": [
    {
     "name": "stdout",
     "output_type": "stream",
     "text": [
      "95% Confidence Interval for population mean satisfaction score: (7.043561120599888, 8.756438879400113)\n"
     ]
    }
   ],
   "source": []
  },
  {
   "cell_type": "markdown",
   "id": "92a9dae1",
   "metadata": {},
   "source": []
  },
  {
   "cell_type": "code",
   "execution_count": 34,
   "id": "37b9e91d",
   "metadata": {},
   "outputs": [
    {
     "name": "stdout",
     "output_type": "stream",
     "text": [
      "Slope: 0.5\n",
      "Intercept: -2.9000000000000004\n",
      "R-value: 0.6933752452815364\n",
      "P-value: 0.19417134561205843\n",
      "Standard error: 0.30000000000000004\n"
     ]
    }
   ],
   "source": []
  },
  {
   "cell_type": "code",
   "execution_count": null,
   "id": "fa1a465b",
   "metadata": {},
   "outputs": [],
   "source": []
  }
 ],
 "metadata": {
  "kernelspec": {
   "display_name": "Python 3 (ipykernel)",
   "language": "python",
   "name": "python3"
  },
  "language_info": {
   "codemirror_mode": {
    "name": "ipython",
    "version": 3
   },
   "file_extension": ".py",
   "mimetype": "text/x-python",
   "name": "python",
   "nbconvert_exporter": "python",
   "pygments_lexer": "ipython3",
   "version": "3.10.9"
  }
 },
 "nbformat": 4,
 "nbformat_minor": 5
}
